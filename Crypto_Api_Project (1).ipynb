{
 "cells": [
  {
   "cell_type": "code",
   "execution_count": 5,
   "id": "b3637116",
   "metadata": {},
   "outputs": [],
   "source": [
    "import os\n",
    "api_key = os.environ['cmc_api']"
   ]
  },
  {
   "cell_type": "code",
   "execution_count": 37,
   "id": "774d1606",
   "metadata": {},
   "outputs": [
    {
     "name": "stdout",
     "output_type": "stream",
     "text": [
      "BTC 26283.762575631514\n",
      "ETH 1619.742947100217\n",
      "USDT 0.9999750603311135\n"
     ]
    }
   ],
   "source": [
    "from requests import Request, Session\n",
    "import json\n",
    "\n",
    "url = 'https://pro-api.coinmarketcap.com/v1/cryptocurrency/listings/latest'\n",
    "parameters = {\n",
    "  'start':'1',\n",
    "  'limit':'3',\n",
    "  'convert':'USD'\n",
    "}\n",
    "headers = {\n",
    "  'Accepts': 'application/json',\n",
    "  'X-CMC_PRO_API_KEY': api_key,\n",
    "}\n",
    "\n",
    "\n",
    "response = requests.get(url, params=parameters, headers=headers).json()\n",
    "\n",
    "#print(response)\n",
    "\n",
    "coins = response['data']\n",
    "\n",
    "for x in coins:\n",
    "    print(x['symbol'], x['quote']['USD']['price'])"
   ]
  },
  {
   "cell_type": "code",
   "execution_count": null,
   "id": "218dfba9",
   "metadata": {},
   "outputs": [],
   "source": []
  },
  {
   "cell_type": "code",
   "execution_count": null,
   "id": "462c357f",
   "metadata": {},
   "outputs": [],
   "source": []
  }
 ],
 "metadata": {
  "kernelspec": {
   "display_name": "Python 3 (ipykernel)",
   "language": "python",
   "name": "python3"
  },
  "language_info": {
   "codemirror_mode": {
    "name": "ipython",
    "version": 3
   },
   "file_extension": ".py",
   "mimetype": "text/x-python",
   "name": "python",
   "nbconvert_exporter": "python",
   "pygments_lexer": "ipython3",
   "version": "3.11.4"
  }
 },
 "nbformat": 4,
 "nbformat_minor": 5
}
