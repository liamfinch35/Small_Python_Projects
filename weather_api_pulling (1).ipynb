{
 "cells": [
  {
   "cell_type": "code",
   "execution_count": 14,
   "id": "f7473dde",
   "metadata": {},
   "outputs": [],
   "source": [
    "import datetime as dt\n",
    "import requests \n",
    "import os \n",
    "import pandas as pd\n"
   ]
  },
  {
   "cell_type": "code",
   "execution_count": 33,
   "id": "a3589cbc",
   "metadata": {},
   "outputs": [
    {
     "name": "stdout",
     "output_type": "stream",
     "text": [
      "What City would you like the weather on ?Harare\n",
      "Temperature in Harare is 19.70 °C\n",
      "It feels like in 19.08°C in Harare\n",
      "Humidity in Harare is 52%\n",
      "The general weather in Harare is broken clouds\n"
     ]
    }
   ],
   "source": [
    "base_url = \"https://api.openweathermap.org/data/2.5/weather?\"\n",
    "API_key = os.environ['weather_api']\n",
    "City = input('What City would you like the weather on ?')\n",
    "\n",
    "url = base_url + \"q=\" + City + \"&appid=\" + API_key\n",
    "\n",
    "response = requests.get(url).json()\n",
    "\n",
    "#print(response)\n",
    "\n",
    "#df = pd.json_normalize(response)\n",
    "#pd.set_option('display.max_columns', None)\n",
    "\n",
    "#df\n",
    "\n",
    "temp = response['main']['temp']-273.15\n",
    "feels_like = response['main']['feels_like']-273.15\n",
    "humidity = response['main']['humidity']\n",
    "description = response['weather'][0]['description']\n",
    "\n",
    "print(f\"Temperature in {City} is {temp:.2f} °C\")\n",
    "print(f\"It feels like in {feels_like:.2f}°C in {City}\")\n",
    "print(f\"Humidity in {City} is {humidity}%\")\n",
    "print(f\"The general weather in {City} is {description}\")"
   ]
  },
  {
   "cell_type": "code",
   "execution_count": null,
   "id": "026f7f64",
   "metadata": {},
   "outputs": [],
   "source": []
  }
 ],
 "metadata": {
  "kernelspec": {
   "display_name": "Python 3 (ipykernel)",
   "language": "python",
   "name": "python3"
  },
  "language_info": {
   "codemirror_mode": {
    "name": "ipython",
    "version": 3
   },
   "file_extension": ".py",
   "mimetype": "text/x-python",
   "name": "python",
   "nbconvert_exporter": "python",
   "pygments_lexer": "ipython3",
   "version": "3.11.4"
  }
 },
 "nbformat": 4,
 "nbformat_minor": 5
}
